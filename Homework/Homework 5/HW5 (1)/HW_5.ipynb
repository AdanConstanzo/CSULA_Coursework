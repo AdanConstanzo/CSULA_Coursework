{
 "cells": [
  {
   "cell_type": "markdown",
   "metadata": {},
   "source": [
    "a- Download the dataset “Digit” from CSNS. Check out the dataset. It includes 1797 small images (8x8 pixels), each one includes a hand-written digit (0-9). You have to download the corresponding csv file that includes the labels of the images. The goal is to build a Machine Learning Algorithm that can recognize the hand-written digits!"
   ]
  },
  {
   "cell_type": "code",
   "execution_count": 9,
   "metadata": {},
   "outputs": [
    {
     "name": "stdout",
     "output_type": "stream",
     "text": [
      "[[  0   2  88 217 158  21   0   0]\n",
      " [ 16   0 228 236 166 253  95   0]\n",
      " [  0  41 255  44  11 182 132   3]\n",
      " [ 11  80 220   0   2 143 133   5]\n",
      " [  6  71 122   0   5 155 140   0]\n",
      " [  0  76 194   0  26 207 105  15]\n",
      " [  0  18 255  83 146 211   4   0]\n",
      " [  4   3  87 228 182   0   9   2]]\n"
     ]
    },
    {
     "data": {
      "text/plain": [
       "<matplotlib.image.AxesImage at 0x10ede12b0>"
      ]
     },
     "execution_count": 9,
     "metadata": {},
     "output_type": "execute_result"
    },
    {
     "data": {
      "image/png": "[encoded data removed]",
      "text/plain": [
       "<Figure size 432x288 with 1 Axes>"
      ]
     },
     "metadata": {
      "needs_background": "light"
     },
     "output_type": "display_data"
    }
   ],
   "source": [
    "import matplotlib.image as mpimg\n",
    "import matplotlib.pyplot as plt\n",
    "\n",
    "file_name = \"./Digit/0.jpg\"\n",
    "\n",
    "%matplotlib inline\n",
    "image_name = mpimg.imread(file_name)\n",
    "print(image_name)\n",
    "plt.imshow(image_name, cmap=plt.cm.gray_r, interpolation='nearest')\n"
   ]
  },
  {
   "cell_type": "markdown",
   "metadata": {},
   "source": [
    "b- Build the feature matrix and label vector: Each image is considered as a data sample with pixels as features. Thus, to build the feature table you have to convert each 8x8 image into an array of 64 elements (i.e. 64 pixels), and put it as a row of the feature matrix with 64 feature columns."
   ]
  },
  {
   "cell_type": "code",
   "execution_count": 48,
   "metadata": {},
   "outputs": [
    {
     "name": "stdout",
     "output_type": "stream",
     "text": [
      "   0  1    2    3    4    5   6  7   8    9  ...   55 56  57   58   59   60  \\\n",
      "0  0  2   88  217  158   21   0  0  16    0  ...    0  4   3   87  228  182   \n",
      "1  0  0   11  187  210   78   5  0  13    5  ...    0  0   0    0  172  251   \n",
      "2  0  0    5   59  240  199   2  0   5    0  ...    0  0  11    0   54  173   \n",
      "3  6  0  108  255  213   13  10  0   2  131  ...    1  0   0  118  217  226   \n",
      "4  0  6    0   34  160    7   7  0   5    0  ...    0  0   0    2   42  250   \n",
      "\n",
      "    61   62  63 number  \n",
      "0    0    9   2      0  \n",
      "1  157    0  12      1  \n",
      "2  255  138   0      2  \n",
      "3  159    0   3      3  \n",
      "4   51    0   4      4  \n",
      "\n",
      "[5 rows x 65 columns]\n"
     ]
    }
   ],
   "source": [
    "\n",
    "# 1796\n",
    "import pandas as pd\n",
    "\n",
    "label = pd.read_csv(\"./label.csv\")\n",
    "\n",
    "#flat_list = [item for sublist in l for item in sublist]\n",
    "columns = [x for x in range(64)]\n",
    "columns.append(\"number\")\n",
    "\n",
    "\n",
    "label_df = pd.DataFrame(columns = columns)\n",
    "\n",
    "for x in range(len(label)):\n",
    "    file_name = \"./Digit/\" + str(label[\"name of the file\"][x]) + \".jpg\"\n",
    "    image_name = mpimg.imread(file_name)\n",
    "    image = [item for sublist in image_name for item in sublist]\n",
    "    image.append(label[\"digit label\"][x])\n",
    "    label_df.loc[len(label_df)] = image\n",
    "print(label_df.head())\n",
    "    \n"
   ]
  },
  {
   "cell_type": "markdown",
   "metadata": {},
   "source": [
    "c- Use sklearn functions to split the dataset into testing and training sets with the following parameters: test_size=0.1, random_state=2."
   ]
  },
  {
   "cell_type": "code",
   "execution_count": 63,
   "metadata": {},
   "outputs": [],
   "source": [
    "from sklearn.model_selection import train_test_split\n",
    "import numpy as np\n",
    "\n",
    "feature_cols = [x for x in range(64)]\n",
    "\n",
    "X = label_df[feature_cols]\n",
    "\n",
    "y = np.asarray(label_df[\"number\"], dtype=\"|S6\")\n",
    "\n",
    "X_train, X_test, y_train, y_test = train_test_split(X, y, test_size=0.1, random_state=2)\n"
   ]
  },
  {
   "cell_type": "markdown",
   "metadata": {},
   "source": [
    "d- Use scikit-learn “Random Forest” classifier to recognize the hand-written digits based on the training/testing datasets that you built in part (c). Use this command to import and define your classifier:\n",
    "from sklearn.ensemble import RandomForestClassifier\n",
    "my_RandomForest =\n",
    "RandomForestClassifier(n_estimators = 19, bootstrap = True, random_state=2)\n",
    "  \n",
    "Use my_RandomForest.fit for training your random forest classifier and my_RandomForest.predict for prediction. Test your Machine Learning Algorithm on testing set (from part(c)), and calculate and report the accuracy."
   ]
  },
  {
   "cell_type": "code",
   "execution_count": 64,
   "metadata": {},
   "outputs": [
    {
     "name": "stdout",
     "output_type": "stream",
     "text": [
      "0.9277777777777778\n"
     ]
    }
   ],
   "source": [
    "from sklearn.ensemble import RandomForestClassifier\n",
    "from sklearn.metrics import accuracy_score\n",
    "\n",
    "my_RandomForest = RandomForestClassifier(n_estimators = 19, bootstrap = True, random_state=2)\n",
    "\n",
    "my_RandomForest.fit(X_train, y_train)\n",
    "y_predict_rf = my_RandomForest.predict(X_test)\n",
    "\n",
    "\n",
    "score_lr = accuracy_score(y_test, y_predict_rf)\n",
    "\n",
    "print(score_lr)"
   ]
  },
  {
   "cell_type": "markdown",
   "metadata": {},
   "source": [
    "e- Write some codes to find which one of the data samples (i.e. which images) have been misclassified (classified incorrectly) in your testing set. Then, use the following command to show the misclassified images:\n",
    "plt.imshow(image_name, cmap=plt.cm.gray_r, interpolation='nearest')\n"
   ]
  },
  {
   "cell_type": "code",
   "execution_count": 79,
   "metadata": {},
   "outputs": [
    {
     "data": {
      "image/png": "[encoded data removed]",
      "text/plain": [
       "<Figure size 432x288 with 1 Axes>"
      ]
     },
     "metadata": {
      "needs_background": "light"
     },
     "output_type": "display_data"
    },
    {
     "data": {
      "image/png": "[encoded data removed]",
      "text/plain": [
       "<Figure size 432x288 with 1 Axes>"
      ]
     },
     "metadata": {
      "needs_background": "light"
     },
     "output_type": "display_data"
    },
    {
     "data": {
      "image/png": "[encoded data removed]",
      "text/plain": [
       "<Figure size 432x288 with 1 Axes>"
      ]
     },
     "metadata": {
      "needs_background": "light"
     },
     "output_type": "display_data"
    },
    {
     "data": {
      "image/png": "[encoded data removed]",
      "text/plain": [
       "<Figure size 432x288 with 1 Axes>"
      ]
     },
     "metadata": {
      "needs_background": "light"
     },
     "output_type": "display_data"
    },
    {
     "data": {
      "image/png": "[encoded data removed]",
      "text/plain": [
       "<Figure size 432x288 with 1 Axes>"
      ]
     },
     "metadata": {
      "needs_background": "light"
     },
     "output_type": "display_data"
    },
    {
     "data": {
      "image/png": "[encoded data removed]",
      "text/plain": [
       "<Figure size 432x288 with 1 Axes>"
      ]
     },
     "metadata": {
      "needs_background": "light"
     },
     "output_type": "display_data"
    },
    {
     "data": {
      "image/png": "[encoded data removed]",
      "text/plain": [
       "<Figure size 432x288 with 1 Axes>"
      ]
     },
     "metadata": {
      "needs_background": "light"
     },
     "output_type": "display_data"
    },
    {
     "data": {
      "image/png": "[encoded data removed]",
      "text/plain": [
       "<Figure size 432x288 with 1 Axes>"
      ]
     },
     "metadata": {
      "needs_background": "light"
     },
     "output_type": "display_data"
    },
    {
     "data": {
      "image/png": "[encoded data removed]",
      "text/plain": [
       "<Figure size 432x288 with 1 Axes>"
      ]
     },
     "metadata": {
      "needs_background": "light"
     },
     "output_type": "display_data"
    },
    {
     "data": {
      "image/png": "[encoded data removed]",
      "text/plain": [
       "<Figure size 432x288 with 1 Axes>"
      ]
     },
     "metadata": {
      "needs_background": "light"
     },
     "output_type": "display_data"
    },
    {
     "data": {
      "image/png": "[encoded data removed]",
      "text/plain": [
       "<Figure size 432x288 with 1 Axes>"
      ]
     },
     "metadata": {
      "needs_background": "light"
     },
     "output_type": "display_data"
    },
    {
     "data": {
      "image/png": "[encoded data removed]",
      "text/plain": [
       "<Figure size 432x288 with 1 Axes>"
      ]
     },
     "metadata": {
      "needs_background": "light"
     },
     "output_type": "display_data"
    },
    {
     "data": {
      "image/png": "[encoded data removed]",
      "text/plain": [
       "<Figure size 432x288 with 1 Axes>"
      ]
     },
     "metadata": {
      "needs_background": "light"
     },
     "output_type": "display_data"
    }
   ],
   "source": [
    "for x in range(len(y_test)):\n",
    "    if y_test[x] != y_predict_rf[x]:\n",
    "        file_name = \"./Digit/\" + str(label[\"name of the file\"][x]) + \".jpg\"\n",
    "        image_name = mpimg.imread(file_name)\n",
    "        plt.figure()\n",
    "        plt.imshow(image_name, cmap=plt.cm.gray_r, interpolation='nearest')\n",
    "    "
   ]
  },
  {
   "cell_type": "code",
   "execution_count": null,
   "metadata": {},
   "outputs": [],
   "source": []
  }
 ],
 "metadata": {
  "kernelspec": {
   "display_name": "Python 3",
   "language": "python",
   "name": "python3"
  },
  "language_info": {
   "codemirror_mode": {
    "name": "ipython",
    "version": 3
   },
   "file_extension": ".py",
   "mimetype": "text/x-python",
   "name": "python",
   "nbconvert_exporter": "python",
   "pygments_lexer": "ipython3",
   "version": "3.7.1"
  }
 },
 "nbformat": 4,
 "nbformat_minor": 2
}
