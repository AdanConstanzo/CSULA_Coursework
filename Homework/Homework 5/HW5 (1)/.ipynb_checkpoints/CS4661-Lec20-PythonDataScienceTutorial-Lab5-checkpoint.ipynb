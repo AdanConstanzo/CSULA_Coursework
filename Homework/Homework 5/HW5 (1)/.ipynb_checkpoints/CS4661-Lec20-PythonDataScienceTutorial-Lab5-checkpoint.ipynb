{
 "cells": [
  {
   "cell_type": "markdown",
   "metadata": {},
   "source": [
    "# Introduction to Data Science (CS4661). Cal State Univ. LA, CS Dept.\n",
    "## Dr. Mo. Porhomayoun\n",
    "----------------------------------------------------------------------------------------------\n",
    "----------------------------------------------------------------------------------------------"
   ]
  },
  {
   "cell_type": "markdown",
   "metadata": {},
   "source": [
    "\n",
    "# Data Science in Python - Lab5\n",
    "\n",
    "#### This is an introduction to some data sceince libraries/packages in python. Feel free to refer to the suggested resources and documentaries for more details.\n",
    "\n",
    "----------------------------------------------------------------------------------------------\n",
    "----------------------------------------------------------------------------------------------\n"
   ]
  },
  {
   "cell_type": "markdown",
   "metadata": {},
   "source": [
    "# Random Forest"
   ]
  },
  {
   "cell_type": "code",
   "execution_count": 1,
   "metadata": {
    "collapsed": true
   },
   "outputs": [],
   "source": [
    "from sklearn.ensemble import RandomForestClassifier\n",
    "\n",
    "# You can adjust parameters:\n",
    "my_RandomForest = RandomForestClassifier(n_estimators = 19, bootstrap = True, random_state=2)\n",
    "\n",
    "# for training:  my_RandomForest.fit \n",
    "# for testing/prediction:  my_RandomForest.predict"
   ]
  },
  {
   "cell_type": "code",
   "execution_count": null,
   "metadata": {
    "collapsed": true
   },
   "outputs": [],
   "source": []
  },
  {
   "cell_type": "markdown",
   "metadata": {},
   "source": [
    "# Model Evaluation and Visualization \n"
   ]
  },
  {
   "cell_type": "markdown",
   "metadata": {},
   "source": [
    "###    More on LOGISTIC REGRESSION:\n",
    "#### Importing the sklearn class (machine learning algorithm) that you would like to use for modeling:"
   ]
  },
  {
   "cell_type": "code",
   "execution_count": 2,
   "metadata": {
    "collapsed": false
   },
   "outputs": [],
   "source": [
    "# Importing libraries and packages:\n",
    "\n",
    "from sklearn.linear_model import LogisticRegression\n",
    "from sklearn.cluster import KMeans\n",
    "from sklearn.model_selection import train_test_split\n",
    "from sklearn.metrics import accuracy_score\n",
    "from sklearn.model_selection import cross_val_score\n",
    "from sklearn import metrics\n",
    "import matplotlib.pyplot as plt\n",
    "import numpy as np\n",
    "import pandas as pd"
   ]
  },
  {
   "cell_type": "markdown",
   "metadata": {},
   "source": [
    "#### Set up the Feature Matrix and Label Vector:"
   ]
  },
  {
   "cell_type": "code",
   "execution_count": 19,
   "metadata": {
    "collapsed": false
   },
   "outputs": [
    {
     "data": {
      "text/html": [
       "<div>\n",
       "<table border=\"1\" class=\"dataframe\">\n",
       "  <thead>\n",
       "    <tr style=\"text-align: right;\">\n",
       "      <th></th>\n",
       "      <th>Clump_Thickness</th>\n",
       "      <th>Uniformity_of_Cell_Size</th>\n",
       "      <th>Uniformity_of_Cell_Shape</th>\n",
       "      <th>Marginal_Adhesion</th>\n",
       "      <th>Single_Epithelial_Cell_Size</th>\n",
       "      <th>Bare_Nuclei</th>\n",
       "      <th>Bland_Chromatin</th>\n",
       "      <th>Normal_Nucleoli</th>\n",
       "      <th>Mitoses</th>\n",
       "      <th>Malignant_Cancer</th>\n",
       "    </tr>\n",
       "  </thead>\n",
       "  <tbody>\n",
       "    <tr>\n",
       "      <th>0</th>\n",
       "      <td>5</td>\n",
       "      <td>1</td>\n",
       "      <td>1</td>\n",
       "      <td>1</td>\n",
       "      <td>2</td>\n",
       "      <td>1</td>\n",
       "      <td>3</td>\n",
       "      <td>1</td>\n",
       "      <td>1</td>\n",
       "      <td>0</td>\n",
       "    </tr>\n",
       "    <tr>\n",
       "      <th>1</th>\n",
       "      <td>5</td>\n",
       "      <td>4</td>\n",
       "      <td>4</td>\n",
       "      <td>5</td>\n",
       "      <td>7</td>\n",
       "      <td>10</td>\n",
       "      <td>3</td>\n",
       "      <td>2</td>\n",
       "      <td>1</td>\n",
       "      <td>0</td>\n",
       "    </tr>\n",
       "    <tr>\n",
       "      <th>2</th>\n",
       "      <td>3</td>\n",
       "      <td>1</td>\n",
       "      <td>1</td>\n",
       "      <td>1</td>\n",
       "      <td>2</td>\n",
       "      <td>2</td>\n",
       "      <td>3</td>\n",
       "      <td>1</td>\n",
       "      <td>1</td>\n",
       "      <td>0</td>\n",
       "    </tr>\n",
       "    <tr>\n",
       "      <th>3</th>\n",
       "      <td>6</td>\n",
       "      <td>8</td>\n",
       "      <td>8</td>\n",
       "      <td>1</td>\n",
       "      <td>3</td>\n",
       "      <td>4</td>\n",
       "      <td>3</td>\n",
       "      <td>7</td>\n",
       "      <td>1</td>\n",
       "      <td>0</td>\n",
       "    </tr>\n",
       "    <tr>\n",
       "      <th>4</th>\n",
       "      <td>4</td>\n",
       "      <td>1</td>\n",
       "      <td>1</td>\n",
       "      <td>3</td>\n",
       "      <td>2</td>\n",
       "      <td>1</td>\n",
       "      <td>3</td>\n",
       "      <td>1</td>\n",
       "      <td>1</td>\n",
       "      <td>0</td>\n",
       "    </tr>\n",
       "  </tbody>\n",
       "</table>\n",
       "</div>"
      ],
      "text/plain": [
       "   Clump_Thickness  Uniformity_of_Cell_Size  Uniformity_of_Cell_Shape  \\\n",
       "0                5                        1                         1   \n",
       "1                5                        4                         4   \n",
       "2                3                        1                         1   \n",
       "3                6                        8                         8   \n",
       "4                4                        1                         1   \n",
       "\n",
       "   Marginal_Adhesion  Single_Epithelial_Cell_Size  Bare_Nuclei  \\\n",
       "0                  1                            2            1   \n",
       "1                  5                            7           10   \n",
       "2                  1                            2            2   \n",
       "3                  1                            3            4   \n",
       "4                  3                            2            1   \n",
       "\n",
       "   Bland_Chromatin  Normal_Nucleoli  Mitoses  Malignant_Cancer  \n",
       "0                3                1        1                 0  \n",
       "1                3                2        1                 0  \n",
       "2                3                1        1                 0  \n",
       "3                3                7        1                 0  \n",
       "4                3                1        1                 0  "
      ]
     },
     "execution_count": 19,
     "metadata": {},
     "output_type": "execute_result"
    }
   ],
   "source": [
    "# reading a CSV file directly from Web (or local drive), and store it in a pandas DataFrame:\n",
    "# \"read_csv\" is a pandas function to read csv files from web or local drive:\n",
    "\n",
    "cancer_df = pd.read_csv('/Users/mpourho/Documents/CSU/Courses/CS4661/Datasets/Cancer.csv')\n",
    "#cancer_df = pd.read_csv('https://raw.githubusercontent.com/mpourhoma/CS4661/master/cancer.csv')\n",
    "\n",
    "# checking the dataset by printing every 10 lines:\n",
    "cancer_df.head()"
   ]
  },
  {
   "cell_type": "code",
   "execution_count": 4,
   "metadata": {
    "collapsed": false
   },
   "outputs": [
    {
     "name": "stdout",
     "output_type": "stream",
     "text": [
      "   Clump_Thickness  Uniformity_of_Cell_Size  Uniformity_of_Cell_Shape  \\\n",
      "0                5                        1                         1   \n",
      "1                5                        4                         4   \n",
      "2                3                        1                         1   \n",
      "3                6                        8                         8   \n",
      "4                4                        1                         1   \n",
      "\n",
      "   Marginal_Adhesion  Single_Epithelial_Cell_Size  Bare_Nuclei  \\\n",
      "0                  1                            2            1   \n",
      "1                  5                            7           10   \n",
      "2                  1                            2            2   \n",
      "3                  1                            3            4   \n",
      "4                  3                            2            1   \n",
      "\n",
      "   Bland_Chromatin  Normal_Nucleoli  Mitoses  \n",
      "0                3                1        1  \n",
      "1                3                2        1  \n",
      "2                3                1        1  \n",
      "3                3                7        1  \n",
      "4                3                1        1  \n",
      "0    0\n",
      "1    0\n",
      "2    0\n",
      "3    0\n",
      "4    0\n",
      "Name: Malignant_Cancer, dtype: int64\n"
     ]
    }
   ],
   "source": [
    "# create a python list of feature names that would like to pick from the dataset:\n",
    "feature_cols = ['Clump_Thickness','Uniformity_of_Cell_Size','Uniformity_of_Cell_Shape',\n",
    "                'Marginal_Adhesion','Single_Epithelial_Cell_Size','Bare_Nuclei',\n",
    "                'Bland_Chromatin','Normal_Nucleoli','Mitoses']\n",
    "\n",
    "# use the above list to select the features from the original DataFrame\n",
    "X = cancer_df[feature_cols] \n",
    "\n",
    "# select a Series of labels (the last column) from the DataFrame\n",
    "y = cancer_df['Malignant_Cancer']\n",
    "\n",
    "# print the first 5 rows\n",
    "print(X.head())\n",
    "print(y.head())"
   ]
  },
  {
   "cell_type": "markdown",
   "metadata": {},
   "source": [
    "#### Splitting the Dataset:"
   ]
  },
  {
   "cell_type": "code",
   "execution_count": 5,
   "metadata": {
    "collapsed": false
   },
   "outputs": [
    {
     "name": "stdout",
     "output_type": "stream",
     "text": [
      "(439, 9)\n",
      "(439,)\n",
      "(110, 9)\n",
      "(110,)\n"
     ]
    }
   ],
   "source": [
    "# Randomly splitting the original dataset into training set and testing set:\n",
    "X_train, X_test, y_train, y_test = train_test_split(X, y, test_size=0.2, random_state=2)\n",
    "\n",
    "# print the size of the traning set:\n",
    "print(X_train.shape)\n",
    "print(y_train.shape)\n",
    "\n",
    "# print the size of the testing set:\n",
    "print(X_test.shape)\n",
    "print(y_test.shape)"
   ]
  },
  {
   "cell_type": "markdown",
   "metadata": {},
   "source": [
    "#### Defining (instantiating) an \"object\" from the sklearn class:"
   ]
  },
  {
   "cell_type": "code",
   "execution_count": 6,
   "metadata": {
    "collapsed": false
   },
   "outputs": [],
   "source": [
    "# \"my_logreg\" is instantiated as an \"object\" of LogisticRegression \"class\". \n",
    "my_logreg = LogisticRegression()\n"
   ]
  },
  {
   "cell_type": "markdown",
   "metadata": {},
   "source": [
    "#### Training Stage: Training a predictive model using the training dataset:\n"
   ]
  },
  {
   "cell_type": "code",
   "execution_count": 7,
   "metadata": {
    "collapsed": false
   },
   "outputs": [
    {
     "data": {
      "text/plain": [
       "LogisticRegression(C=1.0, class_weight=None, dual=False, fit_intercept=True,\n",
       "          intercept_scaling=1, max_iter=100, multi_class='ovr', n_jobs=1,\n",
       "          penalty='l2', random_state=None, solver='liblinear', tol=0.0001,\n",
       "          verbose=0, warm_start=False)"
      ]
     },
     "execution_count": 7,
     "metadata": {},
     "output_type": "execute_result"
    }
   ],
   "source": [
    "# Training ONLY on the training set:\n",
    "my_logreg.fit(X_train, y_train)\n"
   ]
  },
  {
   "cell_type": "markdown",
   "metadata": {},
   "source": [
    "#### Testing (Prediction) Stage: Making prediction on new observations (Testing Data) using the trained model:\n"
   ]
  },
  {
   "cell_type": "code",
   "execution_count": 8,
   "metadata": {
    "collapsed": false,
    "scrolled": true
   },
   "outputs": [
    {
     "name": "stdout",
     "output_type": "stream",
     "text": [
      "[0 1 0 0 0 0 0 0 1 1 0 0 0 0 0 1 1 1 0 0 1 1 0 0 1 0 1 1 1 1 1 0 0 0 0 0 0\n",
      " 0 1 1 1 0 0 1 1 1 0 1 1 1 1 1 0 0 1 1 1 1 1 1 1 0 0 1 1 1 0 1 0 0 1 1 0 0\n",
      " 1 0 1 0 0 1 1 1 1 0 0 1 0 0 0 0 1 0 0 1 1 1 0 0 0 1 1 1 1 0 1 0 0 1 0 0]\n"
     ]
    }
   ],
   "source": [
    "# Testing on the testing set:\n",
    "y_predict_lr = my_logreg.predict(X_test)\n",
    "print(y_predict_lr)"
   ]
  },
  {
   "cell_type": "markdown",
   "metadata": {},
   "source": [
    "### Accuracy Evaluation:\n"
   ]
  },
  {
   "cell_type": "code",
   "execution_count": 9,
   "metadata": {
    "collapsed": false
   },
   "outputs": [
    {
     "name": "stdout",
     "output_type": "stream",
     "text": [
      "0.9363636363636364\n"
     ]
    }
   ],
   "source": [
    "# We can now compare the \"predicted labels\" for the Testing Set with its \"actual labels\" to evaluate the accuracy \n",
    "\n",
    "score_lr = accuracy_score(y_test, y_predict_lr)\n",
    "\n",
    "print(score_lr)\n"
   ]
  },
  {
   "cell_type": "markdown",
   "metadata": {},
   "source": [
    "## Estimating the Probability (likelihood) of happening an Event: \n",
    "##### As we mentioned before, Logistic Regression can also estimate the probability of happening the event (estimating the likelihood of each label) rather than just providing a binary prediction (see Logistic Regression lecture for more information).\n",
    "##### Thus, we can adjust the True Positive Rate (TPR = Sensitivity) and False Positive Rate (FPR = False Alarm Rate) by changing the decision Threshold (see Model Evaluation lecture for more information)."
   ]
  },
  {
   "cell_type": "code",
   "execution_count": 10,
   "metadata": {
    "collapsed": false
   },
   "outputs": [],
   "source": [
    "# Predicting the Binary Label:\n",
    "y_predict_lr = my_logreg.predict(X_test)\n",
    "\n",
    "# Estimating the probability (likelihood) of Each Label: \n",
    "y_predict_prob_lr = my_logreg.predict_proba(X_test)\n"
   ]
  },
  {
   "cell_type": "code",
   "execution_count": 11,
   "metadata": {
    "collapsed": false
   },
   "outputs": [
    {
     "name": "stdout",
     "output_type": "stream",
     "text": [
      "342    0\n",
      "231    1\n",
      "524    0\n",
      "459    0\n",
      "477    0\n",
      "116    0\n",
      "512    0\n",
      "286    0\n",
      "40     1\n",
      "449    1\n",
      "301    0\n",
      "141    0\n",
      "455    0\n",
      "430    0\n",
      "335    0\n",
      "203    1\n",
      "157    1\n",
      "531    1\n",
      "471    0\n",
      "77     0\n",
      "1      0\n",
      "204    1\n",
      "522    0\n",
      "382    0\n",
      "330    1\n",
      "307    0\n",
      "103    1\n",
      "209    1\n",
      "65     1\n",
      "108    1\n",
      "      ..\n",
      "20     1\n",
      "457    1\n",
      "129    1\n",
      "540    0\n",
      "7      0\n",
      "337    0\n",
      "374    0\n",
      "266    0\n",
      "304    0\n",
      "521    0\n",
      "443    1\n",
      "514    0\n",
      "24     1\n",
      "38     1\n",
      "225    1\n",
      "444    1\n",
      "277    0\n",
      "41     0\n",
      "419    0\n",
      "120    1\n",
      "89     1\n",
      "483    1\n",
      "23     1\n",
      "12     1\n",
      "146    1\n",
      "291    0\n",
      "529    0\n",
      "32     1\n",
      "334    0\n",
      "72     0\n",
      "Name: Malignant_Cancer, dtype: int64\n",
      "[0 1 0 0 0 0 0 0 1 1 0 0 0 0 0 1 1 1 0 0 1 1 0 0 1 0 1 1 1 1 1 0 0 0 0 0 0\n",
      " 0 1 1 1 0 0 1 1 1 0 1 1 1 1 1 0 0 1 1 1 1 1 1 1 0 0 1 1 1 0 1 0 0 1 1 0 0\n",
      " 1 0 1 0 0 1 1 1 1 0 0 1 0 0 0 0 1 0 0 1 1 1 0 0 0 1 1 1 1 0 1 0 0 1 0 0]\n",
      "[[9.64209930e-01 3.57900704e-02]\n",
      " [2.25501131e-02 9.77449887e-01]\n",
      " [9.81239809e-01 1.87601906e-02]\n",
      " [9.61646403e-01 3.83535973e-02]\n",
      " [9.65478110e-01 3.45218902e-02]\n",
      " [9.76130742e-01 2.38692576e-02]\n",
      " [9.71796851e-01 2.82031493e-02]\n",
      " [9.80538973e-01 1.94610274e-02]\n",
      " [1.67623576e-01 8.32376424e-01]\n",
      " [1.77234817e-02 9.82276518e-01]\n",
      " [9.52216952e-01 4.77830478e-02]\n",
      " [9.59290706e-01 4.07092941e-02]\n",
      " [9.49957750e-01 5.00422500e-02]\n",
      " [9.76941635e-01 2.30583649e-02]\n",
      " [9.47673646e-01 5.23263543e-02]\n",
      " [5.17361257e-02 9.48263874e-01]\n",
      " [7.10974727e-04 9.99289025e-01]\n",
      " [3.74435031e-04 9.99625565e-01]\n",
      " [9.58996625e-01 4.10033746e-02]\n",
      " [9.50313299e-01 4.96867006e-02]\n",
      " [7.84650988e-02 9.21534901e-01]\n",
      " [4.86185515e-01 5.13814485e-01]\n",
      " [9.72803780e-01 2.71962204e-02]\n",
      " [9.47287058e-01 5.27129418e-02]\n",
      " [3.17129910e-02 9.68287009e-01]\n",
      " [9.70192330e-01 2.98076703e-02]\n",
      " [1.77957308e-02 9.82204269e-01]\n",
      " [1.35703346e-04 9.99864297e-01]\n",
      " [6.94291358e-03 9.93057086e-01]\n",
      " [3.16523394e-02 9.68347661e-01]\n",
      " [5.71523327e-03 9.94284767e-01]\n",
      " [9.59290706e-01 4.07092941e-02]\n",
      " [5.55170072e-01 4.44829928e-01]\n",
      " [9.57093881e-01 4.29061194e-02]\n",
      " [9.64209930e-01 3.57900704e-02]\n",
      " [9.77812475e-01 2.21875250e-02]\n",
      " [9.70753761e-01 2.92462386e-02]\n",
      " [9.81239809e-01 1.87601906e-02]\n",
      " [3.25690316e-03 9.96743097e-01]\n",
      " [3.94295159e-03 9.96057048e-01]\n",
      " [1.10955772e-02 9.88904423e-01]\n",
      " [9.35591861e-01 6.44081391e-02]\n",
      " [9.38527279e-01 6.14727211e-02]\n",
      " [9.17254206e-04 9.99082746e-01]\n",
      " [1.48238358e-02 9.85176164e-01]\n",
      " [6.69360633e-03 9.93306394e-01]\n",
      " [9.60667849e-01 3.93321511e-02]\n",
      " [1.51504141e-03 9.98484959e-01]\n",
      " [1.48125141e-02 9.85187486e-01]\n",
      " [5.62002582e-03 9.94379974e-01]\n",
      " [1.79242750e-04 9.99820757e-01]\n",
      " [9.44560446e-04 9.99055440e-01]\n",
      " [9.67823525e-01 3.21764749e-02]\n",
      " [9.81239809e-01 1.87601906e-02]\n",
      " [2.05259165e-02 9.79474083e-01]\n",
      " [4.40040807e-03 9.95599592e-01]\n",
      " [2.76371314e-02 9.72362869e-01]\n",
      " [2.35385338e-04 9.99764615e-01]\n",
      " [2.63716991e-04 9.99736283e-01]\n",
      " [3.22983440e-03 9.96770166e-01]\n",
      " [7.16272860e-03 9.92837271e-01]\n",
      " [9.66460498e-01 3.35395023e-02]\n",
      " [8.16637514e-01 1.83362486e-01]\n",
      " [9.25894278e-04 9.99074106e-01]\n",
      " [9.74427970e-03 9.90255720e-01]\n",
      " [4.79519051e-01 5.20480949e-01]\n",
      " [9.70205455e-01 2.97945454e-02]\n",
      " [7.43921556e-03 9.92560784e-01]\n",
      " [9.77812475e-01 2.21875250e-02]\n",
      " [9.55284356e-01 4.47156442e-02]\n",
      " [1.69060019e-03 9.98309400e-01]\n",
      " [5.77100804e-03 9.94228992e-01]\n",
      " [9.77649077e-01 2.23509233e-02]\n",
      " [9.64209930e-01 3.57900704e-02]\n",
      " [5.17361257e-02 9.48263874e-01]\n",
      " [8.30647476e-01 1.69352524e-01]\n",
      " [2.02723455e-02 9.79727655e-01]\n",
      " [9.76130742e-01 2.38692576e-02]\n",
      " [9.72803780e-01 2.71962204e-02]\n",
      " [7.46970188e-04 9.99253030e-01]\n",
      " [8.39347337e-03 9.91606527e-01]\n",
      " [4.89403671e-04 9.99510596e-01]\n",
      " [9.11563231e-04 9.99088437e-01]\n",
      " [9.82541565e-01 1.74584350e-02]\n",
      " [9.67651607e-01 3.23483930e-02]\n",
      " [1.25325082e-02 9.87467492e-01]\n",
      " [9.51978934e-01 4.80210661e-02]\n",
      " [6.92548601e-01 3.07451399e-01]\n",
      " [9.76130742e-01 2.38692576e-02]\n",
      " [9.52467409e-01 4.75325907e-02]\n",
      " [2.23377533e-02 9.77662247e-01]\n",
      " [7.65156827e-01 2.34843173e-01]\n",
      " [8.54244368e-01 1.45755632e-01]\n",
      " [1.49947311e-01 8.50052689e-01]\n",
      " [3.29502852e-03 9.96704971e-01]\n",
      " [3.77678334e-03 9.96223217e-01]\n",
      " [9.66460498e-01 3.35395023e-02]\n",
      " [9.69907817e-01 3.00921827e-02]\n",
      " [9.35736129e-01 6.42638714e-02]\n",
      " [7.81459130e-03 9.92185409e-01]\n",
      " [3.66193655e-03 9.96338063e-01]\n",
      " [2.09697057e-03 9.97903029e-01]\n",
      " [1.25657701e-03 9.98743423e-01]\n",
      " [6.45097477e-01 3.54902523e-01]\n",
      " [5.00884726e-04 9.99499115e-01]\n",
      " [9.71322899e-01 2.86771014e-02]\n",
      " [9.80538973e-01 1.94610274e-02]\n",
      " [2.07948986e-02 9.79205101e-01]\n",
      " [9.51373880e-01 4.86261198e-02]\n",
      " [9.59290706e-01 4.07092941e-02]]\n",
      "[0.03579007 0.97744989 0.01876019 0.0383536  0.03452189 0.02386926\n",
      " 0.02820315 0.01946103 0.83237642 0.98227652 0.04778305 0.04070929\n",
      " 0.05004225 0.02305836 0.05232635 0.94826387 0.99928903 0.99962556\n",
      " 0.04100337 0.0496867  0.9215349  0.51381448 0.02719622 0.05271294\n",
      " 0.96828701 0.02980767 0.98220427 0.9998643  0.99305709 0.96834766\n",
      " 0.99428477 0.04070929 0.44482993 0.04290612 0.03579007 0.02218753\n",
      " 0.02924624 0.01876019 0.9967431  0.99605705 0.98890442 0.06440814\n",
      " 0.06147272 0.99908275 0.98517616 0.99330639 0.03933215 0.99848496\n",
      " 0.98518749 0.99437997 0.99982076 0.99905544 0.03217647 0.01876019\n",
      " 0.97947408 0.99559959 0.97236287 0.99976461 0.99973628 0.99677017\n",
      " 0.99283727 0.0335395  0.18336249 0.99907411 0.99025572 0.52048095\n",
      " 0.02979455 0.99256078 0.02218753 0.04471564 0.9983094  0.99422899\n",
      " 0.02235092 0.03579007 0.94826387 0.16935252 0.97972765 0.02386926\n",
      " 0.02719622 0.99925303 0.99160653 0.9995106  0.99908844 0.01745843\n",
      " 0.03234839 0.98746749 0.04802107 0.3074514  0.02386926 0.04753259\n",
      " 0.97766225 0.23484317 0.14575563 0.85005269 0.99670497 0.99622322\n",
      " 0.0335395  0.03009218 0.06426387 0.99218541 0.99633806 0.99790303\n",
      " 0.99874342 0.35490252 0.99949912 0.0286771  0.01946103 0.9792051\n",
      " 0.04862612 0.04070929]\n"
     ]
    }
   ],
   "source": [
    "# This line prints the \"actual label\" of the testing set:\n",
    "print(y_test)\n",
    "\n",
    "# This line prints the \"predicted label\" for the testing set:\n",
    "print(y_predict_lr)\n",
    "\n",
    "# This line prints the \"estimated likelihood of both label\" for the testing set:\n",
    "print(y_predict_prob_lr)\n",
    "\n",
    "# This line prints the \"estimated likelihood of label=1\" for the testing set:\n",
    "print(y_predict_prob_lr[:,1])"
   ]
  },
  {
   "cell_type": "markdown",
   "metadata": {},
   "source": [
    "# True Positive Rate (TPR) and False Positive Rate (FPR):"
   ]
  },
  {
   "cell_type": "code",
   "execution_count": 12,
   "metadata": {
    "collapsed": false
   },
   "outputs": [
    {
     "name": "stdout",
     "output_type": "stream",
     "text": [
      "[0.         0.         0.01851852 0.01851852 0.01851852 0.03703704\n",
      " 0.03703704 0.05555556 0.05555556 0.09259259 0.09259259 0.11111111\n",
      " 0.11111111 0.37037037 0.42592593 0.46296296 0.51851852 0.53703704\n",
      " 0.57407407 0.72222222 0.75925926 0.81481481 0.85185185 0.92592593\n",
      " 0.98148148 1.        ]\n",
      "[0.01785714 0.625      0.625      0.83928571 0.875      0.875\n",
      " 0.91071429 0.91071429 0.96428571 0.96428571 0.98214286 0.98214286\n",
      " 1.         1.         1.         1.         1.         1.\n",
      " 1.         1.         1.         1.         1.         1.\n",
      " 1.         1.        ]\n"
     ]
    }
   ],
   "source": [
    "from sklearn import metrics\n",
    "\n",
    "fpr, tpr, thresholds = metrics.roc_curve(y_test, y_predict_prob_lr[:,1], pos_label=1)\n",
    "\n",
    "print(fpr)\n",
    "print(tpr)"
   ]
  },
  {
   "cell_type": "markdown",
   "metadata": {},
   "source": [
    "# AUC:"
   ]
  },
  {
   "cell_type": "code",
   "execution_count": 13,
   "metadata": {
    "collapsed": false
   },
   "outputs": [
    {
     "name": "stdout",
     "output_type": "stream",
     "text": [
      "0.9874338624338624\n"
     ]
    }
   ],
   "source": [
    "# AUC:\n",
    "AUC = metrics.auc(fpr, tpr)\n",
    "print(AUC)"
   ]
  },
  {
   "cell_type": "markdown",
   "metadata": {},
   "source": [
    "# ROC Curve:"
   ]
  },
  {
   "cell_type": "code",
   "execution_count": 14,
   "metadata": {
    "collapsed": false
   },
   "outputs": [
    {
     "data": {
      "image/png": "[encoded data removed]",
      "text/plain": [
       "<matplotlib.figure.Figure at 0x11b7bef60>"
      ]
     },
     "metadata": {},
     "output_type": "display_data"
    }
   ],
   "source": [
    "# Importing the \"pyplot\" package of \"matplotlib\" library of python to generate \n",
    "# graphs and plot curves:\n",
    "import matplotlib.pyplot as plt\n",
    "\n",
    "# The following line will tell Jupyter Notebook to keep the figures inside the explorer page \n",
    "# rather than openng a new figure window:\n",
    "%matplotlib inline\n",
    "\n",
    "plt.figure()\n",
    "\n",
    "# Roc Curve:\n",
    "plt.plot(fpr, tpr, color='red', lw=2, \n",
    "         label='ROC Curve (area = %0.2f)' % AUC)\n",
    "\n",
    "# Random Guess line:\n",
    "plt.plot([0, 1], [0, 1], color='blue', lw=1, linestyle='--')\n",
    "\n",
    "# Defining The Range of X-Axis and Y-Axis:\n",
    "plt.xlim([-0.005, 1.005])\n",
    "plt.ylim([0.0, 1.01])\n",
    "\n",
    "# Labels, Title, Legend:\n",
    "plt.xlabel('False Positive Rate')\n",
    "plt.ylabel('True Positive Rate')\n",
    "plt.title('Receiver operating characteristic')\n",
    "plt.legend(loc=\"lower right\")\n",
    "\n",
    "plt.show()"
   ]
  },
  {
   "cell_type": "markdown",
   "metadata": {},
   "source": [
    "### Repeating the process with smaller number of features:"
   ]
  },
  {
   "cell_type": "code",
   "execution_count": 15,
   "metadata": {
    "collapsed": false
   },
   "outputs": [
    {
     "name": "stdout",
     "output_type": "stream",
     "text": [
      "0.9260912698412699\n"
     ]
    }
   ],
   "source": [
    "# create a python list of feature names that would like to pick from the dataset:\n",
    "feature_cols2 = ['Clump_Thickness','Mitoses']\n",
    "\n",
    "# use the above list to select the features from the original DataFrame\n",
    "X2 = cancer_df[feature_cols2] \n",
    "\n",
    "# select a Series of labels (the last column) from the DataFrame\n",
    "y2 = cancer_df['Malignant_Cancer']\n",
    "\n",
    "#Splitting the data\n",
    "X_train2, X_test2, y_train2, y_test2 = train_test_split(X2, y2, test_size=0.2, random_state=2)\n",
    "\n",
    "my_logreg2 = LogisticRegression()\n",
    "my_logreg2.fit(X_train2,y_train2)\n",
    "\n",
    "# Predicting the Binary Label:\n",
    "y_predict_lr2 = my_logreg2.predict(X_test2)\n",
    "\n",
    "# Estimating the probability (likelihood) of Each Label: \n",
    "y_predict_prob_lr2 = my_logreg2.predict_proba(X_test2)\n",
    "\n",
    "fpr2, tpr2, thresholds2 = metrics.roc_curve(y_test2, y_predict_prob_lr2[:,1], pos_label=1)\n",
    "AUC2 = metrics.auc(fpr2, tpr2)\n",
    "print(AUC2)"
   ]
  },
  {
   "cell_type": "markdown",
   "metadata": {},
   "source": [
    "### Comparing the ROC Curves:"
   ]
  },
  {
   "cell_type": "code",
   "execution_count": 16,
   "metadata": {
    "collapsed": false
   },
   "outputs": [
    {
     "data": {
      "image/png": "[encoded data removed]",
      "text/plain": [
       "<matplotlib.figure.Figure at 0x1223b1390>"
      ]
     },
     "metadata": {},
     "output_type": "display_data"
    }
   ],
   "source": [
    "# The following line will tell Jupyter Notebook to keep the figures inside the explorer page \n",
    "%matplotlib inline\n",
    "\n",
    "plt.figure()\n",
    "\n",
    "# Roc Curve1:\n",
    "plt.plot(fpr, tpr, color='red', lw=2, \n",
    "         label='ROC Curve (area = %0.2f)' % AUC)\n",
    "\n",
    "# Roc Curve2:\n",
    "plt.plot(fpr2, tpr2, color='green', lw=2, \n",
    "         label='ROC Curve (area = %0.2f)' % AUC2)\n",
    "\n",
    "# Random Guess line:\n",
    "plt.plot([0, 1], [0, 1], color='blue', lw=1, linestyle='--')\n",
    "\n",
    "# Defining The Range of X-Axis and Y-Axis:\n",
    "plt.xlim([-0.005, 1.005])\n",
    "plt.ylim([0.0, 1.01])\n",
    "\n",
    "# Labels, Title, Legend:\n",
    "plt.xlabel('False Positive Rate')\n",
    "plt.ylabel('True Positive Rate')\n",
    "plt.title('Receiver operating characteristic')\n",
    "plt.legend(loc=\"lower right\")\n",
    "\n",
    "plt.show()"
   ]
  },
  {
   "cell_type": "markdown",
   "metadata": {},
   "source": [
    "# More on Visualization: Plotting KMeans Clustering Results"
   ]
  },
  {
   "cell_type": "code",
   "execution_count": 20,
   "metadata": {
    "collapsed": false
   },
   "outputs": [
    {
     "data": {
      "text/plain": [
       "<function matplotlib.pyplot.show>"
      ]
     },
     "execution_count": 20,
     "metadata": {},
     "output_type": "execute_result"
    },
    {
     "data": {
      "image/png": "[encoded data removed]",
      "text/plain": [
       "<matplotlib.figure.Figure at 0x123976a90>"
      ]
     },
     "metadata": {},
     "output_type": "display_data"
    }
   ],
   "source": [
    "# The following line will tell Jupyter Notebook to keep the figures inside the explorer page \n",
    "%matplotlib inline\n",
    "\n",
    "# KMeans Clustering for iris dataset:\n",
    "iris_df = pd.read_csv('https://raw.githubusercontent.com/mpourhoma/CS4661/master/iris.csv')\n",
    "\n",
    "#feature_cols = ['sepal_length','sepal_width','petal_length','petal_width']\n",
    "feature_cols = ['sepal_length','petal_width']\n",
    "X = iris_df[feature_cols]\n",
    "\n",
    "# Clustering:\n",
    "my_KMeans = KMeans(n_clusters=3)\n",
    "my_KMeans.fit(X)\n",
    "\n",
    "# Assigned Labels after clustering: \n",
    "labels = my_KMeans.labels_\n",
    "\n",
    "# Centers of the clusters:\n",
    "centers = my_KMeans.cluster_centers_\n",
    "\n",
    "# Plotting the results:\n",
    "plt.figure\n",
    "\n",
    "for l, c in zip([0,1,2], ['red', 'blue', 'green']):\n",
    "    \n",
    "    current_members = (labels == l)\n",
    "    current_center = centers[l]\n",
    "    \n",
    "    plt.scatter(X.iloc[current_members,0], X.iloc[current_members,1], color = c, marker='x')\n",
    "    \n",
    "    plt.plot(current_center[0], current_center[1], 'o', markerfacecolor = c,\n",
    "            markeredgecolor = 'k', markersize=7)\n",
    "\n",
    "# Defining The Range of X-Axis and Y-Axis:\n",
    "plt.xlim([2, 10])\n",
    "plt.ylim([-0.5, 3])\n",
    "\n",
    "# Labels, Title, Legend:\n",
    "plt.xlabel('sepal length')\n",
    "plt.ylabel('petal width')\n",
    "plt.title('KMeans for IRIS dataset')\n",
    "\n",
    "plt.show"
   ]
  },
  {
   "cell_type": "code",
   "execution_count": null,
   "metadata": {
    "collapsed": true
   },
   "outputs": [],
   "source": []
  }
 ],
 "metadata": {
  "anaconda-cloud": {},
  "kernelspec": {
   "display_name": "Python 3",
   "language": "python",
   "name": "python3"
  },
  "language_info": {
   "codemirror_mode": {
    "name": "ipython",
    "version": 3
   },
   "file_extension": ".py",
   "mimetype": "text/x-python",
   "name": "python",
   "nbconvert_exporter": "python",
   "pygments_lexer": "ipython3",
   "version": "3.6.0"
  }
 },
 "nbformat": 4,
 "nbformat_minor": 0
}
