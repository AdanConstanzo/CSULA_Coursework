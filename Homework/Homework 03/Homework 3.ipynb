{
 "cells": [
  {
   "cell_type": "markdown",
   "metadata": {},
   "source": [
    "# Homework 3 Adan Constanzo"
   ]
  },
  {
   "cell_type": "markdown",
   "metadata": {},
   "source": [
    "## Question 1: Predicting Heart Disease"
   ]
  },
  {
   "cell_type": "markdown",
   "metadata": {},
   "source": [
    "Importing required packages and libraries."
   ]
  },
  {
   "cell_type": "code",
   "execution_count": 8,
   "metadata": {},
   "outputs": [],
   "source": [
    "import numpy as np\n",
    "import pandas as pd\n",
    "from sklearn.neighbors import KNeighborsClassifier\n",
    "from sklearn.linear_model import LogisticRegression\n",
    "from sklearn.tree import DecisionTreeClassifier\n",
    "from sklearn.metrics import accuracy_score\n"
   ]
  },
  {
   "cell_type": "markdown",
   "metadata": {},
   "source": [
    "### a- Reading the dataset file \"Hearts_s.csv\" and assign it to a Pandas DataFrame."
   ]
  },
  {
   "cell_type": "code",
   "execution_count": 9,
   "metadata": {},
   "outputs": [],
   "source": [
    "hearts_df = pd.read_csv(\"Heart_s.csv\")"
   ]
  },
  {
   "cell_type": "markdown",
   "metadata": {},
   "source": [
    "### c- building feature matrix and label vector."
   ]
  },
  {
   "cell_type": "code",
   "execution_count": 10,
   "metadata": {},
   "outputs": [
    {
     "data": {
      "text/html": [
       "<div>\n",
       "<style scoped>\n",
       "    .dataframe tbody tr th:only-of-type {\n",
       "        vertical-align: middle;\n",
       "    }\n",
       "\n",
       "    .dataframe tbody tr th {\n",
       "        vertical-align: top;\n",
       "    }\n",
       "\n",
       "    .dataframe thead th {\n",
       "        text-align: right;\n",
       "    }\n",
       "</style>\n",
       "<table border=\"1\" class=\"dataframe\">\n",
       "  <thead>\n",
       "    <tr style=\"text-align: right;\">\n",
       "      <th></th>\n",
       "      <th>Age</th>\n",
       "      <th>RestBP</th>\n",
       "      <th>Chol</th>\n",
       "      <th>RestECG</th>\n",
       "      <th>MaxHR</th>\n",
       "      <th>Oldpeak</th>\n",
       "    </tr>\n",
       "  </thead>\n",
       "  <tbody>\n",
       "    <tr>\n",
       "      <th>0</th>\n",
       "      <td>63</td>\n",
       "      <td>145</td>\n",
       "      <td>233</td>\n",
       "      <td>2</td>\n",
       "      <td>150</td>\n",
       "      <td>2.3</td>\n",
       "    </tr>\n",
       "    <tr>\n",
       "      <th>1</th>\n",
       "      <td>67</td>\n",
       "      <td>160</td>\n",
       "      <td>286</td>\n",
       "      <td>2</td>\n",
       "      <td>108</td>\n",
       "      <td>1.5</td>\n",
       "    </tr>\n",
       "    <tr>\n",
       "      <th>2</th>\n",
       "      <td>67</td>\n",
       "      <td>120</td>\n",
       "      <td>229</td>\n",
       "      <td>2</td>\n",
       "      <td>129</td>\n",
       "      <td>2.6</td>\n",
       "    </tr>\n",
       "    <tr>\n",
       "      <th>3</th>\n",
       "      <td>37</td>\n",
       "      <td>130</td>\n",
       "      <td>250</td>\n",
       "      <td>0</td>\n",
       "      <td>187</td>\n",
       "      <td>3.5</td>\n",
       "    </tr>\n",
       "    <tr>\n",
       "      <th>4</th>\n",
       "      <td>41</td>\n",
       "      <td>130</td>\n",
       "      <td>204</td>\n",
       "      <td>2</td>\n",
       "      <td>172</td>\n",
       "      <td>1.4</td>\n",
       "    </tr>\n",
       "  </tbody>\n",
       "</table>\n",
       "</div>"
      ],
      "text/plain": [
       "   Age  RestBP  Chol  RestECG  MaxHR  Oldpeak\n",
       "0   63     145   233        2    150      2.3\n",
       "1   67     160   286        2    108      1.5\n",
       "2   67     120   229        2    129      2.6\n",
       "3   37     130   250        0    187      3.5\n",
       "4   41     130   204        2    172      1.4"
      ]
     },
     "execution_count": 10,
     "metadata": {},
     "output_type": "execute_result"
    }
   ],
   "source": [
    "feature_cols = ['Age', 'RestBP', 'Chol', 'RestECG', 'MaxHR', 'Oldpeak']\n",
    "\n",
    "X = hearts_df[feature_cols]\n",
    "\n",
    "X.head()"
   ]
  },
  {
   "cell_type": "code",
   "execution_count": 11,
   "metadata": {},
   "outputs": [
    {
     "name": "stdout",
     "output_type": "stream",
     "text": [
      "(301, 6)\n"
     ]
    }
   ],
   "source": [
    "print(X.shape)"
   ]
  },
  {
   "cell_type": "markdown",
   "metadata": {},
   "source": [
    "### d- Split the dataset into testing and training set with the following parameters: test_size = 0.25, random_state=4"
   ]
  },
  {
   "cell_type": "code",
   "execution_count": 12,
   "metadata": {},
   "outputs": [],
   "source": [
    "from sklearn.model_selection import train_test_split\n",
    "\n",
    "y = hearts_df[\"AHD\"]\n",
    "\n",
    "X_train, X_test, y_train, y_test = train_test_split(X, y, test_size=0.25, random_state=4)"
   ]
  },
  {
   "cell_type": "markdown",
   "metadata": {},
   "source": [
    "### e- using KNN (with k =3), Decision Tree (with random_state=5) and Logistic Regression"
   ]
  },
  {
   "cell_type": "code",
   "execution_count": 13,
   "metadata": {},
   "outputs": [],
   "source": [
    "def getAccuracy(classifiers, accuracy):\n",
    "    for x in range(len(classifiers)):\n",
    "        classifiers[x].fit(X_train, y_train)\n",
    "        y_predict = classifiers[x].predict(X_test)\n",
    "        accuracy[x].append(accuracy_score(y_test, y_predict))\n",
    "    return accuracy"
   ]
  },
  {
   "cell_type": "code",
   "execution_count": 14,
   "metadata": {},
   "outputs": [
    {
     "name": "stdout",
     "output_type": "stream",
     "text": [
      "[['knn', 0.6973684210526315], ['decision tree', 0.6052631578947368], ['logistic', 0.7236842105263158]]\n"
     ]
    }
   ],
   "source": [
    "# instantiating a knn object with k = 3\n",
    "knn = KNeighborsClassifier(n_neighbors=3)\n",
    "my_decisiontree = DecisionTreeClassifier(random_state=5)\n",
    "my_logreg = LogisticRegression()\n",
    "\n",
    "\n",
    "classifiers = [knn, my_decisiontree, my_logreg]\n",
    "accuracy = [[\"knn\"], [\"decision tree\"], [\"logistic\"]]\n",
    "\n",
    "\n",
    "print(getAccuracy(classifiers, accuracy))"
   ]
  },
  {
   "cell_type": "markdown",
   "metadata": {},
   "source": [
    "Logistic classifier is the best and knn is the worst"
   ]
  },
  {
   "cell_type": "markdown",
   "metadata": {},
   "source": [
    "### f- using OneHotEncoding with pd"
   ]
  },
  {
   "cell_type": "code",
   "execution_count": 15,
   "metadata": {
    "scrolled": true
   },
   "outputs": [
    {
     "data": {
      "text/html": [
       "<div>\n",
       "<style scoped>\n",
       "    .dataframe tbody tr th:only-of-type {\n",
       "        vertical-align: middle;\n",
       "    }\n",
       "\n",
       "    .dataframe tbody tr th {\n",
       "        vertical-align: top;\n",
       "    }\n",
       "\n",
       "    .dataframe thead th {\n",
       "        text-align: right;\n",
       "    }\n",
       "</style>\n",
       "<table border=\"1\" class=\"dataframe\">\n",
       "  <thead>\n",
       "    <tr style=\"text-align: right;\">\n",
       "      <th></th>\n",
       "      <th>Age</th>\n",
       "      <th>RestBP</th>\n",
       "      <th>Chol</th>\n",
       "      <th>RestECG</th>\n",
       "      <th>MaxHR</th>\n",
       "      <th>Oldpeak</th>\n",
       "      <th>AHD</th>\n",
       "      <th>f</th>\n",
       "      <th>m</th>\n",
       "      <th>asymptomatic</th>\n",
       "      <th>nonanginal</th>\n",
       "      <th>nontypical</th>\n",
       "      <th>typical</th>\n",
       "      <th>fixed</th>\n",
       "      <th>normal</th>\n",
       "      <th>reversable</th>\n",
       "    </tr>\n",
       "  </thead>\n",
       "  <tbody>\n",
       "    <tr>\n",
       "      <th>0</th>\n",
       "      <td>63</td>\n",
       "      <td>145</td>\n",
       "      <td>233</td>\n",
       "      <td>2</td>\n",
       "      <td>150</td>\n",
       "      <td>2.3</td>\n",
       "      <td>No</td>\n",
       "      <td>1</td>\n",
       "      <td>0</td>\n",
       "      <td>0</td>\n",
       "      <td>0</td>\n",
       "      <td>0</td>\n",
       "      <td>1</td>\n",
       "      <td>1</td>\n",
       "      <td>0</td>\n",
       "      <td>0</td>\n",
       "    </tr>\n",
       "    <tr>\n",
       "      <th>1</th>\n",
       "      <td>67</td>\n",
       "      <td>160</td>\n",
       "      <td>286</td>\n",
       "      <td>2</td>\n",
       "      <td>108</td>\n",
       "      <td>1.5</td>\n",
       "      <td>Yes</td>\n",
       "      <td>1</td>\n",
       "      <td>0</td>\n",
       "      <td>1</td>\n",
       "      <td>0</td>\n",
       "      <td>0</td>\n",
       "      <td>0</td>\n",
       "      <td>0</td>\n",
       "      <td>1</td>\n",
       "      <td>0</td>\n",
       "    </tr>\n",
       "    <tr>\n",
       "      <th>2</th>\n",
       "      <td>67</td>\n",
       "      <td>120</td>\n",
       "      <td>229</td>\n",
       "      <td>2</td>\n",
       "      <td>129</td>\n",
       "      <td>2.6</td>\n",
       "      <td>Yes</td>\n",
       "      <td>1</td>\n",
       "      <td>0</td>\n",
       "      <td>1</td>\n",
       "      <td>0</td>\n",
       "      <td>0</td>\n",
       "      <td>0</td>\n",
       "      <td>0</td>\n",
       "      <td>0</td>\n",
       "      <td>1</td>\n",
       "    </tr>\n",
       "    <tr>\n",
       "      <th>3</th>\n",
       "      <td>37</td>\n",
       "      <td>130</td>\n",
       "      <td>250</td>\n",
       "      <td>0</td>\n",
       "      <td>187</td>\n",
       "      <td>3.5</td>\n",
       "      <td>No</td>\n",
       "      <td>1</td>\n",
       "      <td>0</td>\n",
       "      <td>0</td>\n",
       "      <td>1</td>\n",
       "      <td>0</td>\n",
       "      <td>0</td>\n",
       "      <td>0</td>\n",
       "      <td>1</td>\n",
       "      <td>0</td>\n",
       "    </tr>\n",
       "    <tr>\n",
       "      <th>4</th>\n",
       "      <td>41</td>\n",
       "      <td>130</td>\n",
       "      <td>204</td>\n",
       "      <td>2</td>\n",
       "      <td>172</td>\n",
       "      <td>1.4</td>\n",
       "      <td>No</td>\n",
       "      <td>0</td>\n",
       "      <td>1</td>\n",
       "      <td>0</td>\n",
       "      <td>0</td>\n",
       "      <td>1</td>\n",
       "      <td>0</td>\n",
       "      <td>0</td>\n",
       "      <td>1</td>\n",
       "      <td>0</td>\n",
       "    </tr>\n",
       "  </tbody>\n",
       "</table>\n",
       "</div>"
      ],
      "text/plain": [
       "   Age  RestBP  Chol  RestECG  MaxHR  Oldpeak  AHD  f  m  asymptomatic  \\\n",
       "0   63     145   233        2    150      2.3   No  1  0             0   \n",
       "1   67     160   286        2    108      1.5  Yes  1  0             1   \n",
       "2   67     120   229        2    129      2.6  Yes  1  0             1   \n",
       "3   37     130   250        0    187      3.5   No  1  0             0   \n",
       "4   41     130   204        2    172      1.4   No  0  1             0   \n",
       "\n",
       "   nonanginal  nontypical  typical  fixed  normal  reversable  \n",
       "0           0           0        1      1       0           0  \n",
       "1           0           0        0      0       1           0  \n",
       "2           0           0        0      0       0           1  \n",
       "3           1           0        0      0       1           0  \n",
       "4           0           1        0      0       1           0  "
      ]
     },
     "execution_count": 15,
     "metadata": {},
     "output_type": "execute_result"
    }
   ],
   "source": [
    "\n",
    "catergorical_encoded_hearts_df = pd.read_csv(\"Heart_s.csv\")\n",
    "\n",
    "categorical_features = ['Gender', 'ChestPain', 'Thal']\n",
    "\n",
    "for x in range(len(categorical_features)):\n",
    "    catergorical_encoded_hearts_df = pd.concat([catergorical_encoded_hearts_df, pd.get_dummies(catergorical_encoded_hearts_df[categorical_features[x]])], axis=1)\n",
    "    catergorical_encoded_hearts_df.drop([categorical_features[x]], axis=1, inplace=True)\n",
    "\n",
    "catergorical_encoded_hearts_df.head()\n"
   ]
  },
  {
   "cell_type": "markdown",
   "metadata": {},
   "source": [
    "### g- repeating parts (d) and (e) with new dataset from (f)"
   ]
  },
  {
   "cell_type": "code",
   "execution_count": 16,
   "metadata": {},
   "outputs": [],
   "source": [
    "feature_cols = list(catergorical_encoded_hearts_df.columns)\n",
    "feature_cols.remove('AHD')\n",
    "X = catergorical_encoded_hearts_df[feature_cols]\n",
    "\n",
    "y = catergorical_encoded_hearts_df[\"AHD\"]\n",
    "\n",
    "X_train, X_test, y_train, y_test = train_test_split(X, y, test_size=0.25, random_state=4)"
   ]
  },
  {
   "cell_type": "code",
   "execution_count": 17,
   "metadata": {},
   "outputs": [
    {
     "name": "stdout",
     "output_type": "stream",
     "text": [
      "Old Results\n",
      "[['knn', 0.6973684210526315], ['decision tree', 0.6052631578947368], ['logistic', 0.7236842105263158]]\n",
      "New Results\n",
      "[['knn', 0.6973684210526315], ['decision tree', 0.6710526315789473], ['logistic', 0.8026315789473685]]\n"
     ]
    }
   ],
   "source": [
    "knn = KNeighborsClassifier(n_neighbors=3)\n",
    "my_decisiontree = DecisionTreeClassifier(random_state=5)\n",
    "my_logreg = LogisticRegression()\n",
    "\n",
    "\n",
    "classifiers = [knn, my_decisiontree, my_logreg]\n",
    "accuracy = [[\"knn\"], [\"decision tree\"], [\"logistic\"]]\n",
    "\n",
    "\n",
    "print(\"Old Results\")\n",
    "print(\"[['knn', 0.6973684210526315], ['decision tree', 0.6052631578947368], ['logistic', 0.7236842105263158]]\")\n",
    "print(\"New Results\")\n",
    "print(getAccuracy(classifiers, accuracy))"
   ]
  },
  {
   "cell_type": "markdown",
   "metadata": {},
   "source": [
    "For KNN classifier there were no imporvements with adding our categorical features.\n",
    "There was a bump of accuracy using a decision tree classifier and a logistic classifier. \n",
    "The better classifier for this task is still logistic and the lowest is still knn."
   ]
  },
  {
   "cell_type": "markdown",
   "metadata": {},
   "source": [
    "### h- Use Cross-Validation to split the dataset using 10-fold- Cross-Validation and then report final prediction accuracy."
   ]
  },
  {
   "cell_type": "code",
   "execution_count": 18,
   "metadata": {},
   "outputs": [],
   "source": [
    "from sklearn.model_selection import cross_val_score\n",
    "\n",
    "knn = KNeighborsClassifier(n_neighbors=3)\n",
    "my_decisiontree = DecisionTreeClassifier(random_state=5)\n",
    "my_logreg = LogisticRegression()\n",
    "\n",
    "\n",
    "classifiers = [knn, my_decisiontree, my_logreg]\n",
    "accuracy = [\"knn\", \"decision tree\", \"logistic\"]"
   ]
  },
  {
   "cell_type": "code",
   "execution_count": 19,
   "metadata": {},
   "outputs": [],
   "source": [
    "accuracy_list = { accuracy[x]: cross_val_score(classifiers[x], X, y, cv=10, scoring='accuracy') for x in range(len(classifiers)) }\n"
   ]
  },
  {
   "cell_type": "code",
   "execution_count": 20,
   "metadata": {},
   "outputs": [],
   "source": [
    "import matplotlib\n",
    "import matplotlib.pyplot as plt\n",
    "plt.rcParams['axes.labelsize'] = 14\n",
    "plt.rcParams['xtick.labelsize'] = 12\n",
    "plt.rcParams['ytick.labelsize'] = 12\n",
    "\n",
    "def PlotResults(results, classifier):\n",
    "    plt.title('Mean of %s: %f' % (classifier, results.mean()))\n",
    "    plt.xlabel(\"$%s$\"%classifier,fontsize=18)\n",
    "    plt.ylabel(\"$Accuracy$\", fontsize=18)\n",
    "    y = accuracy_list[classifier]\n",
    "    x = list(range(1,11))\n",
    "    plt.scatter(x, y)\n",
    "    for i, txt in enumerate(y):\n",
    "        plt.annotate(\"%.2f\" % txt, (x[i], y[i]))\n",
    "    "
   ]
  },
  {
   "cell_type": "code",
   "execution_count": 21,
   "metadata": {},
   "outputs": [
    {
     "name": "stdout",
     "output_type": "stream",
     "text": [
      "knn accuracy list\n",
      "[0.70967742 0.64516129 0.51612903 0.66666667 0.63333333 0.46666667\n",
      " 0.66666667 0.66666667 0.55172414 0.72413793]\n",
      "decision tree accuracy list\n",
      "[0.77419355 0.77419355 0.77419355 0.76666667 0.8        0.63333333\n",
      " 0.63333333 0.63333333 0.68965517 0.82758621]\n",
      "logistic accuracy list\n",
      "[0.77419355 0.80645161 0.83870968 0.93333333 0.9        0.66666667\n",
      " 0.8        0.83333333 0.79310345 0.79310345]\n"
     ]
    },
    {
     "data": {
      "image/png": "[encoded data removed]",
      "text/plain": [
       "<Figure size 432x288 with 1 Axes>"
      ]
     },
     "metadata": {},
     "output_type": "display_data"
    },
    {
     "data": {
      "image/png": "[encoded data removed]",
      "text/plain": [
       "<Figure size 432x288 with 1 Axes>"
      ]
     },
     "metadata": {},
     "output_type": "display_data"
    },
    {
     "data": {
      "image/png": "[encoded data removed]",
      "text/plain": [
       "<Figure size 432x288 with 1 Axes>"
      ]
     },
     "metadata": {},
     "output_type": "display_data"
    }
   ],
   "source": [
    "for i in range(len(accuracy_list)):\n",
    "    plt.figure(i+1)\n",
    "    print(\"%s accuracy list\" %accuracy[i])\n",
    "    print(accuracy_list[accuracy[i]])\n",
    "    PlotResults(accuracy_list[accuracy[i]], accuracy[i])"
   ]
  },
  {
   "cell_type": "markdown",
   "metadata": {},
   "source": [
    "## Question 2: Debt Prediction"
   ]
  },
  {
   "cell_type": "markdown",
   "metadata": {},
   "source": [
    "### a- Reading \"Credit.csv\" to a pandas dataframe."
   ]
  },
  {
   "cell_type": "code",
   "execution_count": 22,
   "metadata": {},
   "outputs": [],
   "source": [
    "credit = pd.read_csv(\"Credit.csv\")"
   ]
  },
  {
   "cell_type": "markdown",
   "metadata": {},
   "source": [
    "### c- Generating feature matrix and target vector and normalizing the features."
   ]
  },
  {
   "cell_type": "code",
   "execution_count": 23,
   "metadata": {},
   "outputs": [
    {
     "data": {
      "text/html": [
       "<div>\n",
       "<style scoped>\n",
       "    .dataframe tbody tr th:only-of-type {\n",
       "        vertical-align: middle;\n",
       "    }\n",
       "\n",
       "    .dataframe tbody tr th {\n",
       "        vertical-align: top;\n",
       "    }\n",
       "\n",
       "    .dataframe thead th {\n",
       "        text-align: right;\n",
       "    }\n",
       "</style>\n",
       "<table border=\"1\" class=\"dataframe\">\n",
       "  <thead>\n",
       "    <tr style=\"text-align: right;\">\n",
       "      <th></th>\n",
       "      <th>Income</th>\n",
       "      <th>Limit</th>\n",
       "      <th>Rating</th>\n",
       "      <th>Cards</th>\n",
       "      <th>Age</th>\n",
       "      <th>Education</th>\n",
       "      <th>Married</th>\n",
       "    </tr>\n",
       "  </thead>\n",
       "  <tbody>\n",
       "    <tr>\n",
       "      <th>0</th>\n",
       "      <td>14.891</td>\n",
       "      <td>3606</td>\n",
       "      <td>283</td>\n",
       "      <td>2</td>\n",
       "      <td>34</td>\n",
       "      <td>11</td>\n",
       "      <td>1</td>\n",
       "    </tr>\n",
       "    <tr>\n",
       "      <th>1</th>\n",
       "      <td>106.025</td>\n",
       "      <td>6645</td>\n",
       "      <td>483</td>\n",
       "      <td>3</td>\n",
       "      <td>82</td>\n",
       "      <td>15</td>\n",
       "      <td>1</td>\n",
       "    </tr>\n",
       "    <tr>\n",
       "      <th>2</th>\n",
       "      <td>104.593</td>\n",
       "      <td>7075</td>\n",
       "      <td>514</td>\n",
       "      <td>4</td>\n",
       "      <td>71</td>\n",
       "      <td>11</td>\n",
       "      <td>0</td>\n",
       "    </tr>\n",
       "    <tr>\n",
       "      <th>3</th>\n",
       "      <td>148.924</td>\n",
       "      <td>9504</td>\n",
       "      <td>681</td>\n",
       "      <td>3</td>\n",
       "      <td>36</td>\n",
       "      <td>11</td>\n",
       "      <td>0</td>\n",
       "    </tr>\n",
       "    <tr>\n",
       "      <th>4</th>\n",
       "      <td>55.882</td>\n",
       "      <td>4897</td>\n",
       "      <td>357</td>\n",
       "      <td>2</td>\n",
       "      <td>68</td>\n",
       "      <td>16</td>\n",
       "      <td>1</td>\n",
       "    </tr>\n",
       "  </tbody>\n",
       "</table>\n",
       "</div>"
      ],
      "text/plain": [
       "    Income  Limit  Rating  Cards  Age  Education  Married\n",
       "0   14.891   3606     283      2   34         11        1\n",
       "1  106.025   6645     483      3   82         15        1\n",
       "2  104.593   7075     514      4   71         11        0\n",
       "3  148.924   9504     681      3   36         11        0\n",
       "4   55.882   4897     357      2   68         16        1"
      ]
     },
     "execution_count": 23,
     "metadata": {},
     "output_type": "execute_result"
    }
   ],
   "source": [
    "feature_cols = [\"Income\", \"Limit\", \"Rating\", \"Cards\", \"Age\", \"Education\", \"Married\"]\n",
    "X = credit[feature_cols]\n",
    "\n",
    "X.head()"
   ]
  },
  {
   "cell_type": "code",
   "execution_count": 70,
   "metadata": {},
   "outputs": [],
   "source": [
    "y = credit[\"Balance\"]"
   ]
  },
  {
   "cell_type": "code",
   "execution_count": 75,
   "metadata": {},
   "outputs": [
    {
     "name": "stderr",
     "output_type": "stream",
     "text": [
      "/Library/Frameworks/Python.framework/Versions/3.6/lib/python3.6/site-packages/sklearn/utils/validation.py:475: DataConversionWarning: Data with input dtype int64 was converted to float64 by the scale function.\n",
      "  warnings.warn(msg, DataConversionWarning)\n"
     ]
    }
   ],
   "source": [
    "from sklearn.preprocessing import scale\n",
    "\n",
    "d = { x: list(scale(X[x])) for x in feature_cols if x != \"Married\" }\n",
    "d[\"Married\"] = list(X[\"Married\"])\n",
    "\n",
    "normalized_x = pd.DataFrame(data=d)"
   ]
  },
  {
   "cell_type": "code",
   "execution_count": 76,
   "metadata": {},
   "outputs": [
    {
     "data": {
      "text/html": [
       "<div>\n",
       "<style scoped>\n",
       "    .dataframe tbody tr th:only-of-type {\n",
       "        vertical-align: middle;\n",
       "    }\n",
       "\n",
       "    .dataframe tbody tr th {\n",
       "        vertical-align: top;\n",
       "    }\n",
       "\n",
       "    .dataframe thead th {\n",
       "        text-align: right;\n",
       "    }\n",
       "</style>\n",
       "<table border=\"1\" class=\"dataframe\">\n",
       "  <thead>\n",
       "    <tr style=\"text-align: right;\">\n",
       "      <th></th>\n",
       "      <th>Income</th>\n",
       "      <th>Limit</th>\n",
       "      <th>Rating</th>\n",
       "      <th>Cards</th>\n",
       "      <th>Age</th>\n",
       "      <th>Education</th>\n",
       "      <th>Married</th>\n",
       "    </tr>\n",
       "  </thead>\n",
       "  <tbody>\n",
       "    <tr>\n",
       "      <th>0</th>\n",
       "      <td>-0.861583</td>\n",
       "      <td>-0.489999</td>\n",
       "      <td>-0.465539</td>\n",
       "      <td>-0.699130</td>\n",
       "      <td>-1.257674</td>\n",
       "      <td>-0.784930</td>\n",
       "      <td>1</td>\n",
       "    </tr>\n",
       "    <tr>\n",
       "      <th>1</th>\n",
       "      <td>1.727437</td>\n",
       "      <td>0.828261</td>\n",
       "      <td>0.828703</td>\n",
       "      <td>0.031032</td>\n",
       "      <td>1.528451</td>\n",
       "      <td>0.496588</td>\n",
       "      <td>1</td>\n",
       "    </tr>\n",
       "    <tr>\n",
       "      <th>2</th>\n",
       "      <td>1.686756</td>\n",
       "      <td>1.014787</td>\n",
       "      <td>1.029311</td>\n",
       "      <td>0.761194</td>\n",
       "      <td>0.889964</td>\n",
       "      <td>-0.784930</td>\n",
       "      <td>0</td>\n",
       "    </tr>\n",
       "    <tr>\n",
       "      <th>3</th>\n",
       "      <td>2.946152</td>\n",
       "      <td>2.068440</td>\n",
       "      <td>2.110003</td>\n",
       "      <td>0.031032</td>\n",
       "      <td>-1.141586</td>\n",
       "      <td>-0.784930</td>\n",
       "      <td>0</td>\n",
       "    </tr>\n",
       "    <tr>\n",
       "      <th>4</th>\n",
       "      <td>0.302928</td>\n",
       "      <td>0.070012</td>\n",
       "      <td>0.013331</td>\n",
       "      <td>-0.699130</td>\n",
       "      <td>0.715831</td>\n",
       "      <td>0.816968</td>\n",
       "      <td>1</td>\n",
       "    </tr>\n",
       "  </tbody>\n",
       "</table>\n",
       "</div>"
      ],
      "text/plain": [
       "     Income     Limit    Rating     Cards       Age  Education  Married\n",
       "0 -0.861583 -0.489999 -0.465539 -0.699130 -1.257674  -0.784930        1\n",
       "1  1.727437  0.828261  0.828703  0.031032  1.528451   0.496588        1\n",
       "2  1.686756  1.014787  1.029311  0.761194  0.889964  -0.784930        0\n",
       "3  2.946152  2.068440  2.110003  0.031032 -1.141586  -0.784930        0\n",
       "4  0.302928  0.070012  0.013331 -0.699130  0.715831   0.816968        1"
      ]
     },
     "execution_count": 76,
     "metadata": {},
     "output_type": "execute_result"
    }
   ],
   "source": [
    "normalized_x.head()\n"
   ]
  },
  {
   "cell_type": "markdown",
   "metadata": {},
   "source": [
    "### d- Splitting dataset into testing and training sets with the following parameters: test_size = 0.24 and random_state=4"
   ]
  },
  {
   "cell_type": "code",
   "execution_count": 77,
   "metadata": {},
   "outputs": [],
   "source": [
    "X_train, X_test, y_train, y_test = train_test_split(normalized_x, y, test_size=0.24, random_state=4)"
   ]
  },
  {
   "cell_type": "markdown",
   "metadata": {},
   "source": [
    "### e- Using linear regression to train a linear model on the training set. Then using the coefficients of the linear regression model to determin the most important freature and least important."
   ]
  },
  {
   "cell_type": "code",
   "execution_count": 78,
   "metadata": {},
   "outputs": [],
   "source": [
    "from sklearn.linear_model import LinearRegression"
   ]
  },
  {
   "cell_type": "code",
   "execution_count": 79,
   "metadata": {},
   "outputs": [
    {
     "data": {
      "text/plain": [
       "LinearRegression(copy_X=True, fit_intercept=True, n_jobs=1, normalize=False)"
      ]
     },
     "execution_count": 79,
     "metadata": {},
     "output_type": "execute_result"
    }
   ],
   "source": [
    "# In the following line, \"my_linreg\" is instantiated as an \"object\" of LinearRegression \"class\". \n",
    "\n",
    "my_linreg = LinearRegression()\n",
    "\n",
    "# fitting the model to the training data:\n",
    "my_linreg.fit(X_train, y_train)"
   ]
  },
  {
   "cell_type": "code",
   "execution_count": 80,
   "metadata": {},
   "outputs": [
    {
     "name": "stdout",
     "output_type": "stream",
     "text": [
      "543.0959106131935\n",
      "[-264.98372644  131.99156792  478.53169403   14.72121881  -29.7832935\n",
      "    1.67827514  -41.47581319]\n"
     ]
    }
   ],
   "source": [
    "# printing Theta0 using attribute \"intercept_\":\n",
    "print(my_linreg.intercept_)\n",
    "\n",
    "# printing [Theta1, Theta2, Theta3] using attribute \"coef_\":\n",
    "print(my_linreg.coef_)"
   ]
  },
  {
   "cell_type": "markdown",
   "metadata": {},
   "source": [
    "From the coeficients, the most important feature is Raiting and the less important feature is Income."
   ]
  },
  {
   "cell_type": "markdown",
   "metadata": {},
   "source": [
    "### f- predicting balance from users in testing set. Comparing predicited balance with actual balance by calculating and reporting RMSE"
   ]
  },
  {
   "cell_type": "code",
   "execution_count": 81,
   "metadata": {},
   "outputs": [
    {
     "name": "stdout",
     "output_type": "stream",
     "text": [
      "161.51385491175313\n"
     ]
    }
   ],
   "source": [
    "y_prediction = my_linreg.predict(X_test)\n",
    "\n",
    "from sklearn import metrics\n",
    "import numpy as np\n",
    "\n",
    "# Calculating \"Mean Square Error\" (MSE):\n",
    "mse = metrics.mean_squared_error(y_test, y_prediction)\n",
    "\n",
    "# Using numpy sqrt function to take the square root and calculate \"Root Mean Square Error\" (RMSE)\n",
    "rmse = np.sqrt(mse)\n",
    "\n",
    "print(rmse)"
   ]
  },
  {
   "cell_type": "markdown",
   "metadata": {},
   "source": [
    "### g- use 10-fold cross-validation to evaluate the performance of a linear regression in predicting the balance. What is the RMSE when using corss validation?"
   ]
  },
  {
   "cell_type": "code",
   "execution_count": 82,
   "metadata": {},
   "outputs": [],
   "source": [
    "from sklearn.model_selection import cross_val_score"
   ]
  },
  {
   "cell_type": "code",
   "execution_count": 83,
   "metadata": {},
   "outputs": [
    {
     "name": "stdout",
     "output_type": "stream",
     "text": [
      "[-23646.90415343 -32003.04401232 -35462.64435619 -37327.60719635\n",
      " -14341.32205939 -33628.37104224 -31631.99317834 -12491.00334951\n",
      " -20749.61212175 -23204.94743459]\n"
     ]
    }
   ],
   "source": [
    "my_linreg = LinearRegression()\n",
    "\n",
    "mse_list = cross_val_score(my_linreg, normalized_x, y, cv=10, scoring='neg_mean_squared_error')\n",
    "print(mse_list)"
   ]
  },
  {
   "cell_type": "code",
   "execution_count": 84,
   "metadata": {},
   "outputs": [
    {
     "name": "stdout",
     "output_type": "stream",
     "text": [
      "[153.7754992  178.89394627 188.31527914 193.20353826 119.75525901\n",
      " 183.38039983 177.85385343 111.76315739 144.04725656 152.331702  ]\n",
      "160.3319891074414\n"
     ]
    }
   ],
   "source": [
    "mse_list_positive = -mse_list\n",
    "\n",
    "# using numpy sqrt function to calculate rmse:\n",
    "rmse_list = np.sqrt(mse_list_positive)\n",
    "print(rmse_list)\n",
    "\n",
    "print(rmse_list.mean())"
   ]
  },
  {
   "cell_type": "markdown",
   "metadata": {},
   "source": [
    "The RMSE is 160.3319891074414\n"
   ]
  },
  {
   "cell_type": "code",
   "execution_count": null,
   "metadata": {},
   "outputs": [],
   "source": []
  }
 ],
 "metadata": {
  "kernelspec": {
   "display_name": "Python 3",
   "language": "python",
   "name": "python3"
  },
  "language_info": {
   "codemirror_mode": {
    "name": "ipython",
    "version": 3
   },
   "file_extension": ".py",
   "mimetype": "text/x-python",
   "name": "python",
   "nbconvert_exporter": "python",
   "pygments_lexer": "ipython3",
   "version": "3.6.5"
  }
 },
 "nbformat": 4,
 "nbformat_minor": 2
}
